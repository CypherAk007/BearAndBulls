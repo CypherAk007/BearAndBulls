{
  "nbformat": 4,
  "nbformat_minor": 0,
  "metadata": {
    "colab": {
      "provenance": []
    },
    "kernelspec": {
      "name": "python3",
      "display_name": "Python 3"
    },
    "language_info": {
      "name": "python"
    }
  },
  "cells": [
    {
      "cell_type": "markdown",
      "source": [
        "----------Abhishek Krishna-------------"
      ],
      "metadata": {
        "id": "cRCUj5McuHPp"
      }
    },
    {
      "cell_type": "code",
      "source": [
        "# wealth calculator\n",
        "# Source - Book(Millioner Next Door)\n",
        "def wealthCalc(age,annualSalary):\n",
        "  return (age*annualSalary)//10"
      ],
      "metadata": {
        "id": "CHEd3K8ft9Gz"
      },
      "execution_count": null,
      "outputs": []
    },
    {
      "cell_type": "code",
      "source": [
        "# Approxmation.(non data backed) - IT Market job india\n",
        "# current factor - 5X\n",
        "# No. of years of experience * factor *1Lac= mini ctc req\n",
        "# Ex. 10 yrs * 5* 1Lac = 50 Lac ctc\n",
        "Factor = 5\n",
        "def jobRanker(experience):\n",
        "  return experience*Factor*100000\n"
      ],
      "metadata": {
        "id": "UeUubz-6OkUC"
      },
      "execution_count": null,
      "outputs": []
    },
    {
      "cell_type": "code",
      "execution_count": null,
      "metadata": {
        "id": "IElc8dBOtwGT"
      },
      "outputs": [],
      "source": [
        "# Find Market Cap\n",
        "# Source - Ticker Tape- Overview\n",
        "def marketCap(companyName,marketCapital):\n",
        "  # Future:webScraping or api the company with name and get data\n",
        "  company=''\n",
        "  # largecap - >20000 cr\n",
        "  if marketCapital>200000000:\n",
        "    company=\"largeCap\"\n",
        "  # midcap - >20000 cr\n",
        "  elif marketCapital<=200000000 and marketCapital>=50000000:\n",
        "    company=\"midCap\"\n",
        "  elif marketCapital<50000000:\n",
        "    company=\"smallCap\"\n",
        "  return [companyName,marketCapital,company]"
      ]
    },
    {
      "cell_type": "code",
      "source": [
        "# Total Promoter Holding (***Recomended (40-50)%+***)\n",
        "# Source - Ticker Tape- Holdings\n",
        "def totalPromoterHolding(percentage):\n",
        "  Flag=\"\"\n",
        "\n",
        "  if percentage>=70:\n",
        "    Flag=\"Green\"\n",
        "  elif percentage>=40:\n",
        "    Flag=\"Yellow\"\n",
        "  elif percentage<40:\n",
        "    Flag=\"Red\"\n",
        "  elif percentage==0:\n",
        "    # Well established company(Ex. ITC,Zomato)\n",
        "    Flag=\"Black\"\n",
        "  return [percentage,Flag]\n"
      ],
      "metadata": {
        "id": "leW30tcat9OZ"
      },
      "execution_count": null,
      "outputs": []
    },
    {
      "cell_type": "code",
      "source": [
        "# PE Ratio (strictly <=100)\n",
        "# PE RATIO— HOW MUCH IS STOX COSTLIER THAN EARNING\n",
        "def peRatioFlag(peRatio):\n",
        "  Flag=''\n",
        "  if peRatio>100:\n",
        "    Flag=\"Red\"\n",
        "  elif peRatio>30:\n",
        "    Flag='Yellow'\n",
        "  elif peRatio<30:\n",
        "    Flag=\"Green\"\n",
        "  return [peRatio,Flag]"
      ],
      "metadata": {
        "id": "zoPfqEs5t9L_"
      },
      "execution_count": null,
      "outputs": []
    },
    {
      "cell_type": "code",
      "source": [
        "# Debt to Equity Ratio (strictly <=1)\n",
        "def debtToEquity(debtToEquityRatio):\n",
        "  flag=''\n",
        "  if debtToEquityRatio>1:\n",
        "    flag='Red'\n",
        "  elif debtToEquityRatio>debtToEquityRatio<=1:\n",
        "    flag=\"Green\"\n",
        "  return [debtToEquityRatio,flag]"
      ],
      "metadata": {
        "id": "8sfrHdj4t9Jf"
      },
      "execution_count": null,
      "outputs": []
    },
    {
      "cell_type": "code",
      "source": [
        "# Find The sector of a stock\n",
        "def sectorFinderFlag(stockName,sector):\n",
        "  if sector in [\"Materials\",\"Industrials\",\"Consumer Discertionary\",\"Consumer Staples\"]:\n",
        "    return [sector,\"Green\"]\n",
        "  else:\n",
        "    return [sector,\"Yellow\"]"
      ],
      "metadata": {
        "id": "UvFy-cpSeF5C"
      },
      "execution_count": null,
      "outputs": []
    },
    {
      "cell_type": "code",
      "source": [
        "# Current Ratio CURRENT ASSETS/CURRENT LIAB = GOOD RANGE = (1.2-2.0)\n",
        "# Source= Ticker Tape -> Balance Sheet\n",
        "def currentRatio(currentAssets,currentLiab):\n",
        "  cr=currentAssets/currentLiab\n",
        "  if cr>=1.2:\n",
        "    return [\"%.2f\" % cr,\"Green\"]\n",
        "  return [\"%.2f\" % cr,\"Red\"]"
      ],
      "metadata": {
        "id": "VQMRPlW9eF19"
      },
      "execution_count": null,
      "outputs": []
    },
    {
      "cell_type": "code",
      "source": [
        "# Total Revenue\n",
        "# Source - GOTO -> TICKER TAPE ->STOX ->FINANCIALS ->\n",
        "# CHANGE SETTING FM ANUAL NORMAL VIEW TO GROW VIEW FOR % GROWTH ->\n",
        "# IDAL GROWTH RATE (10-15%+)\n",
        "\n",
        "\n",
        "def growthRate(growthPercentArr):\n",
        "  positiveCount=0\n",
        "  negitiveCount=0\n",
        "  for i in range(len(growthPercentArr)-1):\n",
        "    if growthPercentArr[i+1]-growthPercentArr[i]>=20:\n",
        "      positiveCount+=1\n",
        "    else:\n",
        "      negitiveCount+=1\n",
        "  if positiveCount>negitiveCount:\n",
        "    return[growthPercentArr,positiveCount,negitiveCount,'Green']\n",
        "  else:\n",
        "    return[growthPercentArr,positiveCount,negitiveCount,'Red']\n"
      ],
      "metadata": {
        "id": "K7IWk1lMkXeR"
      },
      "execution_count": null,
      "outputs": []
    },
    {
      "cell_type": "code",
      "source": [],
      "metadata": {
        "id": "zzS1SB1dkXbO"
      },
      "execution_count": null,
      "outputs": []
    },
    {
      "cell_type": "code",
      "source": [],
      "metadata": {
        "id": "wJ4bRD57kXYK"
      },
      "execution_count": null,
      "outputs": []
    },
    {
      "cell_type": "code",
      "source": [],
      "metadata": {
        "id": "tdJE-XbZeFzb"
      },
      "execution_count": null,
      "outputs": []
    },
    {
      "cell_type": "code",
      "source": [
        "if __name__=='__main__':\n",
        "  companySize=marketCap('ITC',5483160000)\n",
        "  print(companySize)\n",
        "  promoterHolding = totalPromoterHolding(45)\n",
        "  print(promoterHolding)\n",
        "  peFlag = peRatioFlag(110)\n",
        "  print(peFlag)\n",
        "  debtToEquityRatio = debtToEquity(1.1)\n",
        "  print(debtToEquityRatio)\n",
        "  minWealth =wealthCalc(22,1300000)\n",
        "  print(\"₹\"+str(minWealth))\n",
        "  sectorFlag=sectorFinderFlag(\"Airtel\",\"Materials\")\n",
        "  print(sectorFlag)\n",
        "  current_ratio =currentRatio(17500,10500)\n",
        "  print(current_ratio)\n",
        "  growthPercentArr=[27.05,\t27.04,\t3.23,\t30.76,\t18.68,\t11.68,\t41.76,\t28.27\t]\n",
        "  growthRateFlag=growthRate(growthPercentArr)\n",
        "  print(growthRateFlag)"
      ],
      "metadata": {
        "colab": {
          "base_uri": "https://localhost:8080/"
        },
        "id": "dWdJD7i_t9CY",
        "outputId": "1c2d3c02-6c70-43b5-cdaa-bed412bf16a0"
      },
      "execution_count": null,
      "outputs": [
        {
          "output_type": "stream",
          "name": "stdout",
          "text": [
            "['ITC', 5483160000, 'largeCap']\n",
            "[45, 'Yellow']\n",
            "[110, 'Red']\n",
            "[1.1, 'Red']\n",
            "₹2860000\n",
            "['Materials', 'Green']\n",
            "['1.67', 'Green']\n",
            "[[27.05, 27.04, 3.23, 30.76, 18.68, 11.68, 41.76, 28.27], 2, 5, 'Red']\n"
          ]
        }
      ]
    }
  ]
}